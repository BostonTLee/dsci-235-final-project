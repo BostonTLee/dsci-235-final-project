{
 "cells": [
  {
   "cell_type": "markdown",
   "metadata": {},
   "source": [
    "# World Happiness Report Analysis"
   ]
  },
  {
   "cell_type": "markdown",
   "metadata": {},
   "source": [
    "**Authors**: Boston Lee, Adam Kiehl \n",
    "\n",
    "**Source**: https://www.kaggle.com/unsdsn/world-happiness"
   ]
  },
  {
   "cell_type": "markdown",
   "metadata": {},
   "source": [
    "### Importing Libraries:"
   ]
  },
  {
   "cell_type": "code",
   "execution_count": 57,
   "metadata": {
    "_cell_guid": "b1076dfc-b9ad-4769-8c92-a6c4dae69d19",
    "_uuid": "8f2839f25d086af736a60e9eeb907d3b93b6e0e5"
   },
   "outputs": [],
   "source": [
    "import numpy as np\n",
    "import pandas as pd\n",
    "import matplotlib as mpl\n",
    "import matplotlib.pyplot as plt\n",
    "import statsmodels.api as sm\n",
    "%matplotlib inline"
   ]
  },
  {
   "cell_type": "markdown",
   "metadata": {},
   "source": [
    "### Reading Data:"
   ]
  },
  {
   "cell_type": "markdown",
   "metadata": {},
   "source": [
    "The data was read from five different tables contained in a data folder. Each was also given revised headings for interpretability."
   ]
  },
  {
   "cell_type": "code",
   "execution_count": 21,
   "metadata": {
    "_cell_guid": "79c7e3d0-c299-4dcb-8224-4455121ee9b0",
    "_uuid": "d629ff2d2480ee46fbb7e2d37f6b5fab8052498a"
   },
   "outputs": [],
   "source": [
    "data_2015 = pd.read_csv('data/2015.csv', header = 0, \n",
    "                        names=['country', 'region', 'rank', \n",
    "                               'score', 'se', 'economy', \n",
    "                               'family', 'health', 'freedom', \n",
    "                               'trust', 'generosity', 'dystopian'])\n",
    "\n",
    "data_2016 = pd.read_csv('data/2016.csv', header = 0, \n",
    "                        names=['country', 'region', 'rank', \n",
    "                               'score', 'lower', 'upper', \n",
    "                               'economy', 'family', 'health', \n",
    "                               'freedom', 'trust', 'generosity', \n",
    "                               'dystopian'])\n",
    "\n",
    "data_2017 = pd.read_csv('data/2017.csv', header = 0, \n",
    "                        names=['country', 'rank', 'score', \n",
    "                               'high', 'low', 'economy', 'family', \n",
    "                               'health', 'freedom', 'generosity', \n",
    "                               'trust', 'dystopian'])\n",
    "\n",
    "data_2018 = pd.read_csv('data/2018.csv', header = 0, \n",
    "                        names=['rank', 'country', 'score', \n",
    "                               'economy', 'family', 'health', \n",
    "                               'freedom', 'generosity', 'trust'])\n",
    "\n",
    "data_2019 = pd.read_csv('data/2019.csv', header = 0, \n",
    "                        names=['rank', 'country', 'score', \n",
    "                               'economy', 'family', 'health', \n",
    "                               'freedom', 'generosity', 'trust'])"
   ]
  },
  {
   "cell_type": "markdown",
   "metadata": {},
   "source": [
    "### Data manipulation and standardization:"
   ]
  },
  {
   "cell_type": "markdown",
   "metadata": {},
   "source": [
    "The 2015 dataset included region labels for every country. In order to facilitate adding region to every DataFrame, we needed to create a DataFrame that matches countries to their corresponding regions. This new indexing DataFrame can then be used to incorporate region into every dataset. We needed to do this before modifying the underlying DataFrame of the 2015 data, so we decided to save this information first."
   ]
  },
  {
   "cell_type": "code",
   "execution_count": 22,
   "metadata": {},
   "outputs": [
    {
     "data": {
      "text/html": [
       "<div>\n",
       "<style scoped>\n",
       "    .dataframe tbody tr th:only-of-type {\n",
       "        vertical-align: middle;\n",
       "    }\n",
       "\n",
       "    .dataframe tbody tr th {\n",
       "        vertical-align: top;\n",
       "    }\n",
       "\n",
       "    .dataframe thead th {\n",
       "        text-align: right;\n",
       "    }\n",
       "</style>\n",
       "<table border=\"1\" class=\"dataframe\">\n",
       "  <thead>\n",
       "    <tr style=\"text-align: right;\">\n",
       "      <th></th>\n",
       "      <th>country</th>\n",
       "      <th>region</th>\n",
       "    </tr>\n",
       "  </thead>\n",
       "  <tbody>\n",
       "    <tr>\n",
       "      <th>0</th>\n",
       "      <td>Switzerland</td>\n",
       "      <td>Western Europe</td>\n",
       "    </tr>\n",
       "    <tr>\n",
       "      <th>1</th>\n",
       "      <td>Iceland</td>\n",
       "      <td>Western Europe</td>\n",
       "    </tr>\n",
       "    <tr>\n",
       "      <th>2</th>\n",
       "      <td>Denmark</td>\n",
       "      <td>Western Europe</td>\n",
       "    </tr>\n",
       "    <tr>\n",
       "      <th>3</th>\n",
       "      <td>Norway</td>\n",
       "      <td>Western Europe</td>\n",
       "    </tr>\n",
       "    <tr>\n",
       "      <th>4</th>\n",
       "      <td>Canada</td>\n",
       "      <td>North America</td>\n",
       "    </tr>\n",
       "    <tr>\n",
       "      <th>...</th>\n",
       "      <td>...</td>\n",
       "      <td>...</td>\n",
       "    </tr>\n",
       "    <tr>\n",
       "      <th>153</th>\n",
       "      <td>Rwanda</td>\n",
       "      <td>Sub-Saharan Africa</td>\n",
       "    </tr>\n",
       "    <tr>\n",
       "      <th>154</th>\n",
       "      <td>Benin</td>\n",
       "      <td>Sub-Saharan Africa</td>\n",
       "    </tr>\n",
       "    <tr>\n",
       "      <th>155</th>\n",
       "      <td>Syria</td>\n",
       "      <td>Middle East and Northern Africa</td>\n",
       "    </tr>\n",
       "    <tr>\n",
       "      <th>156</th>\n",
       "      <td>Burundi</td>\n",
       "      <td>Sub-Saharan Africa</td>\n",
       "    </tr>\n",
       "    <tr>\n",
       "      <th>157</th>\n",
       "      <td>Togo</td>\n",
       "      <td>Sub-Saharan Africa</td>\n",
       "    </tr>\n",
       "  </tbody>\n",
       "</table>\n",
       "<p>158 rows × 2 columns</p>\n",
       "</div>"
      ],
      "text/plain": [
       "         country                           region\n",
       "0    Switzerland                   Western Europe\n",
       "1        Iceland                   Western Europe\n",
       "2        Denmark                   Western Europe\n",
       "3         Norway                   Western Europe\n",
       "4         Canada                    North America\n",
       "..           ...                              ...\n",
       "153       Rwanda               Sub-Saharan Africa\n",
       "154        Benin               Sub-Saharan Africa\n",
       "155        Syria  Middle East and Northern Africa\n",
       "156      Burundi               Sub-Saharan Africa\n",
       "157         Togo               Sub-Saharan Africa\n",
       "\n",
       "[158 rows x 2 columns]"
      ]
     },
     "execution_count": 22,
     "metadata": {},
     "output_type": "execute_result"
    }
   ],
   "source": [
    "country_region_df = data_2015[['country', 'region']]\n",
    "country_region_df"
   ]
  },
  {
   "cell_type": "markdown",
   "metadata": {},
   "source": [
    "The available variables were different across the five tables, so we created a list of variables common to all DataFrames that were sufficient for analysis."
   ]
  },
  {
   "cell_type": "code",
   "execution_count": 23,
   "metadata": {},
   "outputs": [],
   "source": [
    "standard_variables = ['country', 'rank', \n",
    "                      'score', 'economy', 'family', \n",
    "                      'health', 'freedom', 'trust', \n",
    "                      'generosity']"
   ]
  },
  {
   "cell_type": "markdown",
   "metadata": {},
   "source": [
    "We can then index every DataFrame by the standard variables given, making for easy merging."
   ]
  },
  {
   "cell_type": "code",
   "execution_count": 24,
   "metadata": {},
   "outputs": [],
   "source": [
    "data_2015 = data_2015[standard_variables]\n",
    "data_2016 = data_2016[standard_variables]\n",
    "data_2017 = data_2017[standard_variables]\n",
    "data_2018 = data_2018[standard_variables]\n",
    "data_2019 = data_2019[standard_variables]"
   ]
  },
  {
   "cell_type": "markdown",
   "metadata": {},
   "source": [
    "From here, we can construct a DataFrame containing all of the years, by using `concat`."
   ]
  },
  {
   "cell_type": "code",
   "execution_count": 25,
   "metadata": {},
   "outputs": [],
   "source": [
    "full_data = pd.concat([data_2015, data_2016, data_2017, \n",
    "                            data_2018, data_2019], \n",
    "                           keys = ['2015', '2016', '2017', \n",
    "                                   '2018', '2019'], \n",
    "                           names = ['year'],\n",
    "                           axis = 0)"
   ]
  },
  {
   "cell_type": "markdown",
   "metadata": {},
   "source": [
    "We have now created a DataFrame indexed by both year and the initial implicit indices. We will reset the index, and get rid of the implicit index column."
   ]
  },
  {
   "cell_type": "code",
   "execution_count": 26,
   "metadata": {},
   "outputs": [
    {
     "data": {
      "text/html": [
       "<div>\n",
       "<style scoped>\n",
       "    .dataframe tbody tr th:only-of-type {\n",
       "        vertical-align: middle;\n",
       "    }\n",
       "\n",
       "    .dataframe tbody tr th {\n",
       "        vertical-align: top;\n",
       "    }\n",
       "\n",
       "    .dataframe thead th {\n",
       "        text-align: right;\n",
       "    }\n",
       "</style>\n",
       "<table border=\"1\" class=\"dataframe\">\n",
       "  <thead>\n",
       "    <tr style=\"text-align: right;\">\n",
       "      <th></th>\n",
       "      <th>year</th>\n",
       "      <th>country</th>\n",
       "      <th>rank</th>\n",
       "      <th>score</th>\n",
       "      <th>economy</th>\n",
       "      <th>family</th>\n",
       "      <th>health</th>\n",
       "      <th>freedom</th>\n",
       "      <th>trust</th>\n",
       "      <th>generosity</th>\n",
       "    </tr>\n",
       "  </thead>\n",
       "  <tbody>\n",
       "    <tr>\n",
       "      <th>0</th>\n",
       "      <td>2015</td>\n",
       "      <td>Switzerland</td>\n",
       "      <td>1</td>\n",
       "      <td>7.587</td>\n",
       "      <td>1.39651</td>\n",
       "      <td>1.34951</td>\n",
       "      <td>0.94143</td>\n",
       "      <td>0.66557</td>\n",
       "      <td>0.41978</td>\n",
       "      <td>0.29678</td>\n",
       "    </tr>\n",
       "    <tr>\n",
       "      <th>1</th>\n",
       "      <td>2015</td>\n",
       "      <td>Iceland</td>\n",
       "      <td>2</td>\n",
       "      <td>7.561</td>\n",
       "      <td>1.30232</td>\n",
       "      <td>1.40223</td>\n",
       "      <td>0.94784</td>\n",
       "      <td>0.62877</td>\n",
       "      <td>0.14145</td>\n",
       "      <td>0.43630</td>\n",
       "    </tr>\n",
       "    <tr>\n",
       "      <th>2</th>\n",
       "      <td>2015</td>\n",
       "      <td>Denmark</td>\n",
       "      <td>3</td>\n",
       "      <td>7.527</td>\n",
       "      <td>1.32548</td>\n",
       "      <td>1.36058</td>\n",
       "      <td>0.87464</td>\n",
       "      <td>0.64938</td>\n",
       "      <td>0.48357</td>\n",
       "      <td>0.34139</td>\n",
       "    </tr>\n",
       "    <tr>\n",
       "      <th>3</th>\n",
       "      <td>2015</td>\n",
       "      <td>Norway</td>\n",
       "      <td>4</td>\n",
       "      <td>7.522</td>\n",
       "      <td>1.45900</td>\n",
       "      <td>1.33095</td>\n",
       "      <td>0.88521</td>\n",
       "      <td>0.66973</td>\n",
       "      <td>0.36503</td>\n",
       "      <td>0.34699</td>\n",
       "    </tr>\n",
       "    <tr>\n",
       "      <th>4</th>\n",
       "      <td>2015</td>\n",
       "      <td>Canada</td>\n",
       "      <td>5</td>\n",
       "      <td>7.427</td>\n",
       "      <td>1.32629</td>\n",
       "      <td>1.32261</td>\n",
       "      <td>0.90563</td>\n",
       "      <td>0.63297</td>\n",
       "      <td>0.32957</td>\n",
       "      <td>0.45811</td>\n",
       "    </tr>\n",
       "    <tr>\n",
       "      <th>...</th>\n",
       "      <td>...</td>\n",
       "      <td>...</td>\n",
       "      <td>...</td>\n",
       "      <td>...</td>\n",
       "      <td>...</td>\n",
       "      <td>...</td>\n",
       "      <td>...</td>\n",
       "      <td>...</td>\n",
       "      <td>...</td>\n",
       "      <td>...</td>\n",
       "    </tr>\n",
       "    <tr>\n",
       "      <th>777</th>\n",
       "      <td>2019</td>\n",
       "      <td>Rwanda</td>\n",
       "      <td>152</td>\n",
       "      <td>3.334</td>\n",
       "      <td>0.35900</td>\n",
       "      <td>0.71100</td>\n",
       "      <td>0.61400</td>\n",
       "      <td>0.55500</td>\n",
       "      <td>0.41100</td>\n",
       "      <td>0.21700</td>\n",
       "    </tr>\n",
       "    <tr>\n",
       "      <th>778</th>\n",
       "      <td>2019</td>\n",
       "      <td>Tanzania</td>\n",
       "      <td>153</td>\n",
       "      <td>3.231</td>\n",
       "      <td>0.47600</td>\n",
       "      <td>0.88500</td>\n",
       "      <td>0.49900</td>\n",
       "      <td>0.41700</td>\n",
       "      <td>0.14700</td>\n",
       "      <td>0.27600</td>\n",
       "    </tr>\n",
       "    <tr>\n",
       "      <th>779</th>\n",
       "      <td>2019</td>\n",
       "      <td>Afghanistan</td>\n",
       "      <td>154</td>\n",
       "      <td>3.203</td>\n",
       "      <td>0.35000</td>\n",
       "      <td>0.51700</td>\n",
       "      <td>0.36100</td>\n",
       "      <td>0.00000</td>\n",
       "      <td>0.02500</td>\n",
       "      <td>0.15800</td>\n",
       "    </tr>\n",
       "    <tr>\n",
       "      <th>780</th>\n",
       "      <td>2019</td>\n",
       "      <td>Central African Republic</td>\n",
       "      <td>155</td>\n",
       "      <td>3.083</td>\n",
       "      <td>0.02600</td>\n",
       "      <td>0.00000</td>\n",
       "      <td>0.10500</td>\n",
       "      <td>0.22500</td>\n",
       "      <td>0.03500</td>\n",
       "      <td>0.23500</td>\n",
       "    </tr>\n",
       "    <tr>\n",
       "      <th>781</th>\n",
       "      <td>2019</td>\n",
       "      <td>South Sudan</td>\n",
       "      <td>156</td>\n",
       "      <td>2.853</td>\n",
       "      <td>0.30600</td>\n",
       "      <td>0.57500</td>\n",
       "      <td>0.29500</td>\n",
       "      <td>0.01000</td>\n",
       "      <td>0.09100</td>\n",
       "      <td>0.20200</td>\n",
       "    </tr>\n",
       "  </tbody>\n",
       "</table>\n",
       "<p>782 rows × 10 columns</p>\n",
       "</div>"
      ],
      "text/plain": [
       "     year                   country  rank  score  economy   family   health  \\\n",
       "0    2015               Switzerland     1  7.587  1.39651  1.34951  0.94143   \n",
       "1    2015                   Iceland     2  7.561  1.30232  1.40223  0.94784   \n",
       "2    2015                   Denmark     3  7.527  1.32548  1.36058  0.87464   \n",
       "3    2015                    Norway     4  7.522  1.45900  1.33095  0.88521   \n",
       "4    2015                    Canada     5  7.427  1.32629  1.32261  0.90563   \n",
       "..    ...                       ...   ...    ...      ...      ...      ...   \n",
       "777  2019                    Rwanda   152  3.334  0.35900  0.71100  0.61400   \n",
       "778  2019                  Tanzania   153  3.231  0.47600  0.88500  0.49900   \n",
       "779  2019               Afghanistan   154  3.203  0.35000  0.51700  0.36100   \n",
       "780  2019  Central African Republic   155  3.083  0.02600  0.00000  0.10500   \n",
       "781  2019               South Sudan   156  2.853  0.30600  0.57500  0.29500   \n",
       "\n",
       "     freedom    trust  generosity  \n",
       "0    0.66557  0.41978     0.29678  \n",
       "1    0.62877  0.14145     0.43630  \n",
       "2    0.64938  0.48357     0.34139  \n",
       "3    0.66973  0.36503     0.34699  \n",
       "4    0.63297  0.32957     0.45811  \n",
       "..       ...      ...         ...  \n",
       "777  0.55500  0.41100     0.21700  \n",
       "778  0.41700  0.14700     0.27600  \n",
       "779  0.00000  0.02500     0.15800  \n",
       "780  0.22500  0.03500     0.23500  \n",
       "781  0.01000  0.09100     0.20200  \n",
       "\n",
       "[782 rows x 10 columns]"
      ]
     },
     "execution_count": 26,
     "metadata": {},
     "output_type": "execute_result"
    }
   ],
   "source": [
    "full_data.reset_index(inplace = True)\n",
    "full_data.drop('level_1', inplace = True, axis = 1)\n",
    "full_data"
   ]
  },
  {
   "cell_type": "markdown",
   "metadata": {},
   "source": [
    "We can now merge the full DataFrame with the region labels, which were not included in every year's data. This is an overall easier process than adding the region column to every DataFrame individually."
   ]
  },
  {
   "cell_type": "code",
   "execution_count": 27,
   "metadata": {},
   "outputs": [
    {
     "data": {
      "text/html": [
       "<div>\n",
       "<style scoped>\n",
       "    .dataframe tbody tr th:only-of-type {\n",
       "        vertical-align: middle;\n",
       "    }\n",
       "\n",
       "    .dataframe tbody tr th {\n",
       "        vertical-align: top;\n",
       "    }\n",
       "\n",
       "    .dataframe thead th {\n",
       "        text-align: right;\n",
       "    }\n",
       "</style>\n",
       "<table border=\"1\" class=\"dataframe\">\n",
       "  <thead>\n",
       "    <tr style=\"text-align: right;\">\n",
       "      <th></th>\n",
       "      <th>year</th>\n",
       "      <th>country</th>\n",
       "      <th>rank</th>\n",
       "      <th>score</th>\n",
       "      <th>economy</th>\n",
       "      <th>family</th>\n",
       "      <th>health</th>\n",
       "      <th>freedom</th>\n",
       "      <th>trust</th>\n",
       "      <th>generosity</th>\n",
       "      <th>region</th>\n",
       "    </tr>\n",
       "  </thead>\n",
       "  <tbody>\n",
       "    <tr>\n",
       "      <th>0</th>\n",
       "      <td>2015</td>\n",
       "      <td>Switzerland</td>\n",
       "      <td>1</td>\n",
       "      <td>7.587</td>\n",
       "      <td>1.396510</td>\n",
       "      <td>1.349510</td>\n",
       "      <td>0.941430</td>\n",
       "      <td>0.665570</td>\n",
       "      <td>0.419780</td>\n",
       "      <td>0.296780</td>\n",
       "      <td>Western Europe</td>\n",
       "    </tr>\n",
       "    <tr>\n",
       "      <th>1</th>\n",
       "      <td>2016</td>\n",
       "      <td>Switzerland</td>\n",
       "      <td>2</td>\n",
       "      <td>7.509</td>\n",
       "      <td>1.527330</td>\n",
       "      <td>1.145240</td>\n",
       "      <td>0.863030</td>\n",
       "      <td>0.585570</td>\n",
       "      <td>0.412030</td>\n",
       "      <td>0.280830</td>\n",
       "      <td>Western Europe</td>\n",
       "    </tr>\n",
       "    <tr>\n",
       "      <th>2</th>\n",
       "      <td>2017</td>\n",
       "      <td>Switzerland</td>\n",
       "      <td>4</td>\n",
       "      <td>7.494</td>\n",
       "      <td>1.564980</td>\n",
       "      <td>1.516912</td>\n",
       "      <td>0.858131</td>\n",
       "      <td>0.620071</td>\n",
       "      <td>0.367007</td>\n",
       "      <td>0.290549</td>\n",
       "      <td>Western Europe</td>\n",
       "    </tr>\n",
       "    <tr>\n",
       "      <th>3</th>\n",
       "      <td>2018</td>\n",
       "      <td>Switzerland</td>\n",
       "      <td>5</td>\n",
       "      <td>7.487</td>\n",
       "      <td>1.420000</td>\n",
       "      <td>1.549000</td>\n",
       "      <td>0.927000</td>\n",
       "      <td>0.660000</td>\n",
       "      <td>0.357000</td>\n",
       "      <td>0.256000</td>\n",
       "      <td>Western Europe</td>\n",
       "    </tr>\n",
       "    <tr>\n",
       "      <th>4</th>\n",
       "      <td>2019</td>\n",
       "      <td>Switzerland</td>\n",
       "      <td>6</td>\n",
       "      <td>7.480</td>\n",
       "      <td>1.452000</td>\n",
       "      <td>1.526000</td>\n",
       "      <td>1.052000</td>\n",
       "      <td>0.572000</td>\n",
       "      <td>0.343000</td>\n",
       "      <td>0.263000</td>\n",
       "      <td>Western Europe</td>\n",
       "    </tr>\n",
       "    <tr>\n",
       "      <th>...</th>\n",
       "      <td>...</td>\n",
       "      <td>...</td>\n",
       "      <td>...</td>\n",
       "      <td>...</td>\n",
       "      <td>...</td>\n",
       "      <td>...</td>\n",
       "      <td>...</td>\n",
       "      <td>...</td>\n",
       "      <td>...</td>\n",
       "      <td>...</td>\n",
       "      <td>...</td>\n",
       "    </tr>\n",
       "    <tr>\n",
       "      <th>752</th>\n",
       "      <td>2015</td>\n",
       "      <td>Togo</td>\n",
       "      <td>158</td>\n",
       "      <td>2.839</td>\n",
       "      <td>0.208680</td>\n",
       "      <td>0.139950</td>\n",
       "      <td>0.284430</td>\n",
       "      <td>0.364530</td>\n",
       "      <td>0.107310</td>\n",
       "      <td>0.166810</td>\n",
       "      <td>Sub-Saharan Africa</td>\n",
       "    </tr>\n",
       "    <tr>\n",
       "      <th>753</th>\n",
       "      <td>2016</td>\n",
       "      <td>Togo</td>\n",
       "      <td>155</td>\n",
       "      <td>3.303</td>\n",
       "      <td>0.281230</td>\n",
       "      <td>0.000000</td>\n",
       "      <td>0.248110</td>\n",
       "      <td>0.346780</td>\n",
       "      <td>0.115870</td>\n",
       "      <td>0.175170</td>\n",
       "      <td>Sub-Saharan Africa</td>\n",
       "    </tr>\n",
       "    <tr>\n",
       "      <th>754</th>\n",
       "      <td>2017</td>\n",
       "      <td>Togo</td>\n",
       "      <td>150</td>\n",
       "      <td>3.495</td>\n",
       "      <td>0.305445</td>\n",
       "      <td>0.431883</td>\n",
       "      <td>0.247106</td>\n",
       "      <td>0.380426</td>\n",
       "      <td>0.095665</td>\n",
       "      <td>0.196896</td>\n",
       "      <td>Sub-Saharan Africa</td>\n",
       "    </tr>\n",
       "    <tr>\n",
       "      <th>755</th>\n",
       "      <td>2018</td>\n",
       "      <td>Togo</td>\n",
       "      <td>139</td>\n",
       "      <td>3.999</td>\n",
       "      <td>0.259000</td>\n",
       "      <td>0.474000</td>\n",
       "      <td>0.253000</td>\n",
       "      <td>0.434000</td>\n",
       "      <td>0.101000</td>\n",
       "      <td>0.158000</td>\n",
       "      <td>Sub-Saharan Africa</td>\n",
       "    </tr>\n",
       "    <tr>\n",
       "      <th>756</th>\n",
       "      <td>2019</td>\n",
       "      <td>Togo</td>\n",
       "      <td>139</td>\n",
       "      <td>4.085</td>\n",
       "      <td>0.275000</td>\n",
       "      <td>0.572000</td>\n",
       "      <td>0.410000</td>\n",
       "      <td>0.293000</td>\n",
       "      <td>0.085000</td>\n",
       "      <td>0.177000</td>\n",
       "      <td>Sub-Saharan Africa</td>\n",
       "    </tr>\n",
       "  </tbody>\n",
       "</table>\n",
       "<p>757 rows × 11 columns</p>\n",
       "</div>"
      ],
      "text/plain": [
       "     year      country  rank  score   economy    family    health   freedom  \\\n",
       "0    2015  Switzerland     1  7.587  1.396510  1.349510  0.941430  0.665570   \n",
       "1    2016  Switzerland     2  7.509  1.527330  1.145240  0.863030  0.585570   \n",
       "2    2017  Switzerland     4  7.494  1.564980  1.516912  0.858131  0.620071   \n",
       "3    2018  Switzerland     5  7.487  1.420000  1.549000  0.927000  0.660000   \n",
       "4    2019  Switzerland     6  7.480  1.452000  1.526000  1.052000  0.572000   \n",
       "..    ...          ...   ...    ...       ...       ...       ...       ...   \n",
       "752  2015         Togo   158  2.839  0.208680  0.139950  0.284430  0.364530   \n",
       "753  2016         Togo   155  3.303  0.281230  0.000000  0.248110  0.346780   \n",
       "754  2017         Togo   150  3.495  0.305445  0.431883  0.247106  0.380426   \n",
       "755  2018         Togo   139  3.999  0.259000  0.474000  0.253000  0.434000   \n",
       "756  2019         Togo   139  4.085  0.275000  0.572000  0.410000  0.293000   \n",
       "\n",
       "        trust  generosity              region  \n",
       "0    0.419780    0.296780      Western Europe  \n",
       "1    0.412030    0.280830      Western Europe  \n",
       "2    0.367007    0.290549      Western Europe  \n",
       "3    0.357000    0.256000      Western Europe  \n",
       "4    0.343000    0.263000      Western Europe  \n",
       "..        ...         ...                 ...  \n",
       "752  0.107310    0.166810  Sub-Saharan Africa  \n",
       "753  0.115870    0.175170  Sub-Saharan Africa  \n",
       "754  0.095665    0.196896  Sub-Saharan Africa  \n",
       "755  0.101000    0.158000  Sub-Saharan Africa  \n",
       "756  0.085000    0.177000  Sub-Saharan Africa  \n",
       "\n",
       "[757 rows x 11 columns]"
      ]
     },
     "execution_count": 27,
     "metadata": {},
     "output_type": "execute_result"
    }
   ],
   "source": [
    "full_data = pd.merge(full_data,country_region_df)\n",
    "full_data"
   ]
  },
  {
   "cell_type": "markdown",
   "metadata": {},
   "source": [
    "Now that we have a full dataset, we can check that the datatypes of the columns all make sense, as below."
   ]
  },
  {
   "cell_type": "code",
   "execution_count": 28,
   "metadata": {},
   "outputs": [
    {
     "data": {
      "text/plain": [
       "year           object\n",
       "country        object\n",
       "rank            int64\n",
       "score         float64\n",
       "economy       float64\n",
       "family        float64\n",
       "health        float64\n",
       "freedom       float64\n",
       "trust         float64\n",
       "generosity    float64\n",
       "region         object\n",
       "dtype: object"
      ]
     },
     "execution_count": 28,
     "metadata": {},
     "output_type": "execute_result"
    }
   ],
   "source": [
    "full_data.dtypes"
   ]
  },
  {
   "cell_type": "markdown",
   "metadata": {},
   "source": [
    "Notice that `year` was read in as a string. This should not be terribly important, but it will make it easier to order years down the line, should we need to, if we make year into an `int`."
   ]
  },
  {
   "cell_type": "code",
   "execution_count": 29,
   "metadata": {},
   "outputs": [],
   "source": [
    "full_data.year = full_data.year.astype('int32')"
   ]
  },
  {
   "cell_type": "markdown",
   "metadata": {},
   "source": [
    "### Reindexing With Heirarchical Index:"
   ]
  },
  {
   "cell_type": "markdown",
   "metadata": {},
   "source": [
    "We can now perform the final step of creating our full DataFrame, which is to create a heirarchical index by region, then country, then year. This will allow for ease of analysis across the multiple variables."
   ]
  },
  {
   "cell_type": "code",
   "execution_count": 30,
   "metadata": {},
   "outputs": [
    {
     "data": {
      "text/html": [
       "<div>\n",
       "<style scoped>\n",
       "    .dataframe tbody tr th:only-of-type {\n",
       "        vertical-align: middle;\n",
       "    }\n",
       "\n",
       "    .dataframe tbody tr th {\n",
       "        vertical-align: top;\n",
       "    }\n",
       "\n",
       "    .dataframe thead th {\n",
       "        text-align: right;\n",
       "    }\n",
       "</style>\n",
       "<table border=\"1\" class=\"dataframe\">\n",
       "  <thead>\n",
       "    <tr style=\"text-align: right;\">\n",
       "      <th></th>\n",
       "      <th></th>\n",
       "      <th></th>\n",
       "      <th>rank</th>\n",
       "      <th>score</th>\n",
       "      <th>economy</th>\n",
       "      <th>family</th>\n",
       "      <th>health</th>\n",
       "      <th>freedom</th>\n",
       "      <th>trust</th>\n",
       "      <th>generosity</th>\n",
       "    </tr>\n",
       "    <tr>\n",
       "      <th>region</th>\n",
       "      <th>country</th>\n",
       "      <th>year</th>\n",
       "      <th></th>\n",
       "      <th></th>\n",
       "      <th></th>\n",
       "      <th></th>\n",
       "      <th></th>\n",
       "      <th></th>\n",
       "      <th></th>\n",
       "      <th></th>\n",
       "    </tr>\n",
       "  </thead>\n",
       "  <tbody>\n",
       "    <tr>\n",
       "      <th rowspan=\"5\" valign=\"top\">Western Europe</th>\n",
       "      <th rowspan=\"5\" valign=\"top\">Switzerland</th>\n",
       "      <th>2015</th>\n",
       "      <td>1</td>\n",
       "      <td>7.587</td>\n",
       "      <td>1.396510</td>\n",
       "      <td>1.349510</td>\n",
       "      <td>0.941430</td>\n",
       "      <td>0.665570</td>\n",
       "      <td>0.419780</td>\n",
       "      <td>0.296780</td>\n",
       "    </tr>\n",
       "    <tr>\n",
       "      <th>2016</th>\n",
       "      <td>2</td>\n",
       "      <td>7.509</td>\n",
       "      <td>1.527330</td>\n",
       "      <td>1.145240</td>\n",
       "      <td>0.863030</td>\n",
       "      <td>0.585570</td>\n",
       "      <td>0.412030</td>\n",
       "      <td>0.280830</td>\n",
       "    </tr>\n",
       "    <tr>\n",
       "      <th>2017</th>\n",
       "      <td>4</td>\n",
       "      <td>7.494</td>\n",
       "      <td>1.564980</td>\n",
       "      <td>1.516912</td>\n",
       "      <td>0.858131</td>\n",
       "      <td>0.620071</td>\n",
       "      <td>0.367007</td>\n",
       "      <td>0.290549</td>\n",
       "    </tr>\n",
       "    <tr>\n",
       "      <th>2018</th>\n",
       "      <td>5</td>\n",
       "      <td>7.487</td>\n",
       "      <td>1.420000</td>\n",
       "      <td>1.549000</td>\n",
       "      <td>0.927000</td>\n",
       "      <td>0.660000</td>\n",
       "      <td>0.357000</td>\n",
       "      <td>0.256000</td>\n",
       "    </tr>\n",
       "    <tr>\n",
       "      <th>2019</th>\n",
       "      <td>6</td>\n",
       "      <td>7.480</td>\n",
       "      <td>1.452000</td>\n",
       "      <td>1.526000</td>\n",
       "      <td>1.052000</td>\n",
       "      <td>0.572000</td>\n",
       "      <td>0.343000</td>\n",
       "      <td>0.263000</td>\n",
       "    </tr>\n",
       "    <tr>\n",
       "      <th>...</th>\n",
       "      <th>...</th>\n",
       "      <th>...</th>\n",
       "      <td>...</td>\n",
       "      <td>...</td>\n",
       "      <td>...</td>\n",
       "      <td>...</td>\n",
       "      <td>...</td>\n",
       "      <td>...</td>\n",
       "      <td>...</td>\n",
       "      <td>...</td>\n",
       "    </tr>\n",
       "    <tr>\n",
       "      <th rowspan=\"5\" valign=\"top\">Sub-Saharan Africa</th>\n",
       "      <th rowspan=\"5\" valign=\"top\">Togo</th>\n",
       "      <th>2015</th>\n",
       "      <td>158</td>\n",
       "      <td>2.839</td>\n",
       "      <td>0.208680</td>\n",
       "      <td>0.139950</td>\n",
       "      <td>0.284430</td>\n",
       "      <td>0.364530</td>\n",
       "      <td>0.107310</td>\n",
       "      <td>0.166810</td>\n",
       "    </tr>\n",
       "    <tr>\n",
       "      <th>2016</th>\n",
       "      <td>155</td>\n",
       "      <td>3.303</td>\n",
       "      <td>0.281230</td>\n",
       "      <td>0.000000</td>\n",
       "      <td>0.248110</td>\n",
       "      <td>0.346780</td>\n",
       "      <td>0.115870</td>\n",
       "      <td>0.175170</td>\n",
       "    </tr>\n",
       "    <tr>\n",
       "      <th>2017</th>\n",
       "      <td>150</td>\n",
       "      <td>3.495</td>\n",
       "      <td>0.305445</td>\n",
       "      <td>0.431883</td>\n",
       "      <td>0.247106</td>\n",
       "      <td>0.380426</td>\n",
       "      <td>0.095665</td>\n",
       "      <td>0.196896</td>\n",
       "    </tr>\n",
       "    <tr>\n",
       "      <th>2018</th>\n",
       "      <td>139</td>\n",
       "      <td>3.999</td>\n",
       "      <td>0.259000</td>\n",
       "      <td>0.474000</td>\n",
       "      <td>0.253000</td>\n",
       "      <td>0.434000</td>\n",
       "      <td>0.101000</td>\n",
       "      <td>0.158000</td>\n",
       "    </tr>\n",
       "    <tr>\n",
       "      <th>2019</th>\n",
       "      <td>139</td>\n",
       "      <td>4.085</td>\n",
       "      <td>0.275000</td>\n",
       "      <td>0.572000</td>\n",
       "      <td>0.410000</td>\n",
       "      <td>0.293000</td>\n",
       "      <td>0.085000</td>\n",
       "      <td>0.177000</td>\n",
       "    </tr>\n",
       "  </tbody>\n",
       "</table>\n",
       "<p>757 rows × 8 columns</p>\n",
       "</div>"
      ],
      "text/plain": [
       "                                     rank  score   economy    family  \\\n",
       "region             country     year                                    \n",
       "Western Europe     Switzerland 2015     1  7.587  1.396510  1.349510   \n",
       "                               2016     2  7.509  1.527330  1.145240   \n",
       "                               2017     4  7.494  1.564980  1.516912   \n",
       "                               2018     5  7.487  1.420000  1.549000   \n",
       "                               2019     6  7.480  1.452000  1.526000   \n",
       "...                                   ...    ...       ...       ...   \n",
       "Sub-Saharan Africa Togo        2015   158  2.839  0.208680  0.139950   \n",
       "                               2016   155  3.303  0.281230  0.000000   \n",
       "                               2017   150  3.495  0.305445  0.431883   \n",
       "                               2018   139  3.999  0.259000  0.474000   \n",
       "                               2019   139  4.085  0.275000  0.572000   \n",
       "\n",
       "                                       health   freedom     trust  generosity  \n",
       "region             country     year                                            \n",
       "Western Europe     Switzerland 2015  0.941430  0.665570  0.419780    0.296780  \n",
       "                               2016  0.863030  0.585570  0.412030    0.280830  \n",
       "                               2017  0.858131  0.620071  0.367007    0.290549  \n",
       "                               2018  0.927000  0.660000  0.357000    0.256000  \n",
       "                               2019  1.052000  0.572000  0.343000    0.263000  \n",
       "...                                       ...       ...       ...         ...  \n",
       "Sub-Saharan Africa Togo        2015  0.284430  0.364530  0.107310    0.166810  \n",
       "                               2016  0.248110  0.346780  0.115870    0.175170  \n",
       "                               2017  0.247106  0.380426  0.095665    0.196896  \n",
       "                               2018  0.253000  0.434000  0.101000    0.158000  \n",
       "                               2019  0.410000  0.293000  0.085000    0.177000  \n",
       "\n",
       "[757 rows x 8 columns]"
      ]
     },
     "execution_count": 30,
     "metadata": {},
     "output_type": "execute_result"
    }
   ],
   "source": [
    "full_data.set_index(['region','country', 'year'])"
   ]
  },
  {
   "cell_type": "markdown",
   "metadata": {},
   "source": [
    "## Measuring Happiness Across Regions:"
   ]
  },
  {
   "cell_type": "markdown",
   "metadata": {},
   "source": [
    "One of our first driving questions was whether or not certain regions of the world are happier than others. To do this, a simple `groupby` statement was used along with a `mean` aggregation."
   ]
  },
  {
   "cell_type": "code",
   "execution_count": 31,
   "metadata": {},
   "outputs": [
    {
     "data": {
      "text/html": [
       "<div>\n",
       "<style scoped>\n",
       "    .dataframe tbody tr th:only-of-type {\n",
       "        vertical-align: middle;\n",
       "    }\n",
       "\n",
       "    .dataframe tbody tr th {\n",
       "        vertical-align: top;\n",
       "    }\n",
       "\n",
       "    .dataframe thead th {\n",
       "        text-align: right;\n",
       "    }\n",
       "</style>\n",
       "<table border=\"1\" class=\"dataframe\">\n",
       "  <thead>\n",
       "    <tr style=\"text-align: right;\">\n",
       "      <th></th>\n",
       "      <th>score</th>\n",
       "    </tr>\n",
       "    <tr>\n",
       "      <th>region</th>\n",
       "      <th></th>\n",
       "    </tr>\n",
       "  </thead>\n",
       "  <tbody>\n",
       "    <tr>\n",
       "      <th>Australia and New Zealand</th>\n",
       "      <td>7.294600</td>\n",
       "    </tr>\n",
       "    <tr>\n",
       "      <th>North America</th>\n",
       "      <td>7.174700</td>\n",
       "    </tr>\n",
       "    <tr>\n",
       "      <th>Western Europe</th>\n",
       "      <td>6.759311</td>\n",
       "    </tr>\n",
       "    <tr>\n",
       "      <th>Latin America and Caribbean</th>\n",
       "      <td>6.012876</td>\n",
       "    </tr>\n",
       "    <tr>\n",
       "      <th>Eastern Asia</th>\n",
       "      <td>5.630464</td>\n",
       "    </tr>\n",
       "    <tr>\n",
       "      <th>Central and Eastern Europe</th>\n",
       "      <td>5.428875</td>\n",
       "    </tr>\n",
       "    <tr>\n",
       "      <th>Middle East and Northern Africa</th>\n",
       "      <td>5.337208</td>\n",
       "    </tr>\n",
       "    <tr>\n",
       "      <th>Southeastern Asia</th>\n",
       "      <td>5.335227</td>\n",
       "    </tr>\n",
       "    <tr>\n",
       "      <th>Southern Asia</th>\n",
       "      <td>4.580657</td>\n",
       "    </tr>\n",
       "    <tr>\n",
       "      <th>Sub-Saharan Africa</th>\n",
       "      <td>4.174165</td>\n",
       "    </tr>\n",
       "  </tbody>\n",
       "</table>\n",
       "</div>"
      ],
      "text/plain": [
       "                                    score\n",
       "region                                   \n",
       "Australia and New Zealand        7.294600\n",
       "North America                    7.174700\n",
       "Western Europe                   6.759311\n",
       "Latin America and Caribbean      6.012876\n",
       "Eastern Asia                     5.630464\n",
       "Central and Eastern Europe       5.428875\n",
       "Middle East and Northern Africa  5.337208\n",
       "Southeastern Asia                5.335227\n",
       "Southern Asia                    4.580657\n",
       "Sub-Saharan Africa               4.174165"
      ]
     },
     "execution_count": 31,
     "metadata": {},
     "output_type": "execute_result"
    }
   ],
   "source": [
    "full_data.groupby('region')[['region', 'score']].mean().sort_values(by = 'score', ascending = False, inplace = False)"
   ]
  },
  {
   "cell_type": "markdown",
   "metadata": {},
   "source": [
    "It is clear that there is significant regional variation in mean happiness scores but to get a better understanding of the spread of the scores, a boxplot can be created. "
   ]
  },
  {
   "cell_type": "code",
   "execution_count": 32,
   "metadata": {},
   "outputs": [
    {
     "data": {
      "text/plain": [
       "Text(0.5, 1.0, 'Happiness Scores by Region')"
      ]
     },
     "execution_count": 32,
     "metadata": {},
     "output_type": "execute_result"
    },
    {
     "data": {
      "image/png": "[encoded data removed]",
      "text/plain": [
       "<Figure size 432x288 with 1 Axes>"
      ]
     },
     "metadata": {
      "needs_background": "light"
     },
     "output_type": "display_data"
    }
   ],
   "source": [
    "fig1 = full_data.boxplot(column = ['score'], by = 'region', rot = 75, fontsize = 8)\n",
    "plt.suptitle('')\n",
    "p = plt.gca()\n",
    "p.set_xlabel('Region')\n",
    "p.set_ylabel('Score')\n",
    "p.set_title('Happiness Scores by Region')"
   ]
  },
  {
   "cell_type": "markdown",
   "metadata": {},
   "source": [
    "Analyzing the data graphically provides even more insight. Regions like Australia and North America, while scoring highly, contain relatively few countries compared ith other regions. The Latin American region has several outliers well below the spread of the data, possibly bringing the regional mean down. The Middle East has the largest spread of all with some of the most and least happy countries in the world. There is a distinct detectable trend here between a region's developmental process and the happiness of its citizens. "
   ]
  },
  {
   "cell_type": "markdown",
   "metadata": {},
   "source": [
    "## Regional Importance of Happiness Factors:"
   ]
  },
  {
   "cell_type": "markdown",
   "metadata": {},
   "source": [
    "The predictors in this dataset rate how much each factor contributes to a country's happiness score relative to a fictional dystopia. For the World Happiness Report, a dystopia is composed of the lowest score of all the coutries in each category. The predictors indicate both which factors are most important to a country's citizens and which are most present in that country as well. Mean scores are calculated for each predictor, grouped by reagion and then the top factor is selected. "
   ]
  },
  {
   "cell_type": "code",
   "execution_count": 33,
   "metadata": {},
   "outputs": [
    {
     "data": {
      "text/plain": [
       "region\n",
       "Australia and New Zealand           family\n",
       "Central and Eastern Europe          family\n",
       "Eastern Asia                       economy\n",
       "Latin America and Caribbean         family\n",
       "Middle East and Northern Africa    economy\n",
       "North America                      economy\n",
       "Southeastern Asia                   family\n",
       "Southern Asia                       family\n",
       "Sub-Saharan Africa                  family\n",
       "Western Europe                     economy\n",
       "dtype: object"
      ]
     },
     "execution_count": 33,
     "metadata": {},
     "output_type": "execute_result"
    }
   ],
   "source": [
    "happiness_factors = ['economy', 'family', 'health', 'generosity', 'trust', 'freedom']\n",
    "full_data.groupby('region')[happiness_factors].mean().idxmax(axis = 1)"
   ]
  },
  {
   "cell_type": "markdown",
   "metadata": {},
   "source": [
    "Interestingly, the most important factor for each region is always either family or economy. Family is featured as the most important in a wide range of regions from some of the least happy (Sub-Saharan Africa, South\\[eastern\\] Asia) and some of the happiest (Australia, Latin America). Economy was predictably featured in high production areas such as North America, Eastern Asia, and Western Europe. "
   ]
  },
  {
   "cell_type": "markdown",
   "metadata": {},
   "source": [
    "## Temporal Changes in Happiness:"
   ]
  },
  {
   "cell_type": "markdown",
   "metadata": {},
   "source": [
    "Here, we would like to see which countries and regions have experienced the greatest change in general happiness over time. Looking at a line plot of the scores for countries over time is uninformative: There are simply too many countries to make a readable plot. Therefore, we can look at the numeric change of the score by country, between the earliest and latest year in the DataFrame. To do this, we will slice the DataFrame by the desired years and subtract the parts. We will then use this DataFrame to analyze temporal changes both at the country and regional level."
   ]
  },
  {
   "cell_type": "code",
   "execution_count": 34,
   "metadata": {},
   "outputs": [],
   "source": [
    "#FIXME this is temporary to se the heirarchical index for only this section\n",
    "full_data.set_index(['region','country', 'year'], inplace = True)"
   ]
  },
  {
   "cell_type": "code",
   "execution_count": 35,
   "metadata": {},
   "outputs": [],
   "source": [
    "idx = pd.IndexSlice\n",
    "\n",
    "# Years are read in as strings\n",
    "# Extract the data corresponding to 2019\n",
    "scores_2019 = full_data.loc[idx[:,:,2019], :]\n",
    "\n",
    "# Drop the year index for cross-year comparison\n",
    "# Extract only the scores column of interest\n",
    "scores_2019 = scores_2019.reset_index(level = 'year')['score']\n",
    "\n",
    "# Repeat above procedure for 2015\n",
    "scores_2015 = full_data.loc[idx[:,:,2015], :]\n",
    "scores_2015 = scores_2015.reset_index(level = 'year')['score']\n",
    "\n",
    "#Store a multi-indexed series corresponding to the\n",
    "# change across years\n",
    "scores_change = (scores_2019 - scores_2015)"
   ]
  },
  {
   "cell_type": "markdown",
   "metadata": {},
   "source": [
    "### Changes in Happiness by Region"
   ]
  },
  {
   "cell_type": "markdown",
   "metadata": {},
   "source": [
    "We can start with a broad question: How did happiness among the regions change? There are far fewer regions than there are countries, so we can simply view the regional data directly. We will do so from the most negative change to the most positive overall change."
   ]
  },
  {
   "cell_type": "code",
   "execution_count": 39,
   "metadata": {},
   "outputs": [
    {
     "data": {
      "text/plain": [
       "region\n",
       "Central and Eastern Europe         0.227214\n",
       "Western Europe                     0.159050\n",
       "Sub-Saharan Africa                 0.145083\n",
       "Eastern Asia                       0.062667\n",
       "Australia and New Zealand         -0.017500\n",
       "Southeastern Asia                 -0.043778\n",
       "Southern Asia                     -0.054000\n",
       "Middle East and Northern Africa   -0.093789\n",
       "North America                     -0.188000\n",
       "Latin America and Caribbean       -0.194750\n",
       "Name: score, dtype: float64"
      ]
     },
     "execution_count": 39,
     "metadata": {},
     "output_type": "execute_result"
    }
   ],
   "source": [
    "scores_change.mean(level = 'region').sort_values(ascending = False)"
   ]
  },
  {
   "cell_type": "markdown",
   "metadata": {},
   "source": [
    "The region with the greatest increase in happiness was Central and Eastern Europe. This makes sense. On the whole, Central Europe is more stable than many of the regions listed, but it is not as economically developed as Western Europe (the region with the second-highest growth). This combination of stability and room for growth means that the region as a whole is better positioned for higher *gains* in overall happiness than other regions. \n",
    "\n",
    "The region with the greatest decrease in happiness was Latin America and the Carribean. We can speculate that this change was due to political and economic upheaval in the region.\n",
    "\n",
    "It is important to note that these regional explanations are fairly speculative. They also represent a large generalization. As can be seen from the boxplot above, many countries in the same region vary widely with regard to their overall happiness level. It is also important to note that these changes are relatively small on the scale of the true measurements we are using. The maximum and minimum changes are approximately $\\pm 0.2$, which is certainly small with respect to the overall scores, which are on the order of $4$ to $7$. This is consistent with the fact that we are averaging over many values to obtain regional estimates."
   ]
  },
  {
   "cell_type": "markdown",
   "metadata": {},
   "source": [
    "### Changes in Happiness by Country"
   ]
  },
  {
   "cell_type": "markdown",
   "metadata": {},
   "source": [
    "We now want to see which countries have experienced the greatest positive change in happiness. We can do this with the `nlargest()` method. This is like `idxmax()`, but returns multiple values. Let's see the five countries that experienced the highest growth in score, from 2015 to 2019."
   ]
  },
  {
   "cell_type": "code",
   "execution_count": 37,
   "metadata": {},
   "outputs": [
    {
     "data": {
      "text/plain": [
       "region                       country     \n",
       "Sub-Saharan Africa           Benin           1.543\n",
       "                             Ivory Coast     1.289\n",
       "                             Togo            1.246\n",
       "Latin America and Caribbean  Honduras        1.072\n",
       "Sub-Saharan Africa           Burkina Faso    1.000\n",
       "Name: score, dtype: float64"
      ]
     },
     "execution_count": 37,
     "metadata": {},
     "output_type": "execute_result"
    }
   ],
   "source": [
    "scores_change.nlargest(5)"
   ]
  },
  {
   "cell_type": "markdown",
   "metadata": {},
   "source": [
    "With our multi-index, we can see that four of the five countries come from Sub-Saharan Africa, with the other being from Latin America. While we do not expect impoverished countries in Africa to have high *overall* scores, this result makes sense. We would expect those countries that are still economically developing to have higher changes in happiness. The countries listed above are not fully-developed nations, and still have some \"way to go\" in terms of economic development. This means that the standard of living in these areas likely increased over the period studied. Even if it was only a slight increase, it would have been comparatively more than the changes felt by America and Western Europe, for example."
   ]
  },
  {
   "cell_type": "markdown",
   "metadata": {},
   "source": [
    "Now we would like to see the five countries which experienced the sharpest drop in happiness levels over the period. This time we will use the corresponding `nsmallest()` method."
   ]
  },
  {
   "cell_type": "code",
   "execution_count": 38,
   "metadata": {},
   "outputs": [
    {
     "data": {
      "text/plain": [
       "region                       country  \n",
       "Latin America and Caribbean  Venezuela   -2.103\n",
       "Sub-Saharan Africa           Lesotho     -1.096\n",
       "                             Zambia      -1.022\n",
       "                             Zimbabwe    -0.947\n",
       "Latin America and Caribbean  Haiti       -0.921\n",
       "Name: score, dtype: float64"
      ]
     },
     "execution_count": 38,
     "metadata": {},
     "output_type": "execute_result"
    }
   ],
   "source": [
    "scores_change.nsmallest(5)"
   ]
  },
  {
   "cell_type": "markdown",
   "metadata": {},
   "source": [
    "Interestingly enough, the countries that experienced the sharpest decrease in happiness are also from the same regions as the ones that experienced the sharpest increase. This, too, makes sense. The countries in Sub-Saharan Africa, the Carribean, and Latin America are not as politically and econimically stable as more developed nations. As such, although there is a possibility for growth and lifestyle improvement, there is unfortunately also the possibility of political upheaval and economic turmoil. From the countries listed, we can see that these types of events have taken their toll on the happiness of the above countries. In the analysis for regions, we mentioned that outliers could have dragged Latin America down. This seems like it could be the case, as Venezuela was the country that experienced the highest decrease in happiness."
   ]
  },
  {
   "cell_type": "markdown",
   "metadata": {},
   "source": [
    "Finally, those countries with the smallest change in either direction are included by applying the `nsmallest()` method to the absolute value of all the temporal changes in happiness scores. "
   ]
  },
  {
   "cell_type": "code",
   "execution_count": 104,
   "metadata": {},
   "outputs": [
    {
     "data": {
      "text/plain": [
       "region                      country   \n",
       "Sub-Saharan Africa          Nigeria       0.003\n",
       "Central and Eastern Europe  Azerbaijan    0.004\n",
       "Western Europe              Belgium       0.014\n",
       "Sub-Saharan Africa          Comoros       0.017\n",
       "Western Europe              France        0.017\n",
       "Name: score, dtype: float64"
      ]
     },
     "execution_count": 104,
     "metadata": {},
     "output_type": "execute_result"
    }
   ],
   "source": [
    "abs(scores_change).nsmallest(5)"
   ]
  },
  {
   "cell_type": "markdown",
   "metadata": {},
   "source": [
    "Those countries experiencing the least change in any direction vary vastly in region and development. Several from Sub-Saharan Africa and Eastern Europe are largely undeveloped and so are likely experiencing economic and social stagnation. Other countries such as France are already highly developed and so have diminishing developmental returns. \n",
    "\n",
    "We can note here that the change in scores on the country level is of a much higher magnitude than the changes observed on the regional level. In fact, the maximum and minimum changes on the country level are larger by approximately a order of magnitude. This shows that these scores do indeed measure something meaningful. By looking at the individual country level of variation, we can see that many countries experienced substantial changes in overall happiness in the period of 2015 to 2019. These scores capture the overall satisfaction of the population, so we are again losing information. It could be that only certain demographics in the mentioned nations became significantly more or less happy. \n",
    "\n",
    "However, the information conveyed here is certainly more significant than the information on a regional level. This captures the fact that even large political, social, and economic events are often isolated within countries. In the section on regional variation, we tried to generalize slightly about tendencies of regions, but making conclusions about individual nations is much more substantive."
   ]
  },
  {
   "cell_type": "markdown",
   "metadata": {},
   "source": [
    "### Happiness Factor Correlations:"
   ]
  },
  {
   "cell_type": "markdown",
   "metadata": {},
   "source": [
    "In a Kaggle discussion post, a user posted about the shortcomings of modelling happiness factors against happiness score using regression methods. He points out that a perfect model would be sum(factors)=score and that regressing happiness on the other factors is non-sensical due to the different arrangement of factors within each country. To confirm this, a linear regression model can be fit using the `statsmodels` package and a residual diagnostic plot can be generated. Note: The factors mentioned above include a dystopian residual that is not included in the dataframe. "
   ]
  },
  {
   "cell_type": "code",
   "execution_count": 105,
   "metadata": {},
   "outputs": [
    {
     "data": {
      "text/plain": [
       "<matplotlib.collections.PathCollection at 0x1a28568bd0>"
      ]
     },
     "execution_count": 105,
     "metadata": {},
     "output_type": "execute_result"
    },
    {
     "data": {
      "image/png": "[encoded data removed]",
      "text/plain": [
       "<Figure size 432x288 with 1 Axes>"
      ]
     },
     "metadata": {
      "needs_background": "light"
     },
     "output_type": "display_data"
    }
   ],
   "source": [
    "x = list(full_data.loc[idx[:, :, :], 'economy'])\n",
    "y = list(full_data.loc[idx[:, :, :], 'score'].dropna())\n",
    "happiness_mlr = sm.OLS(x, y).fit()\n",
    "pred_values = happiness_mlr.fittedvalues.copy()\n",
    "residuals = y - pred_values\n",
    "plt.scatter(residuals, pred_values)"
   ]
  },
  {
   "cell_type": "markdown",
   "metadata": {},
   "source": [
    "From the residual diagnostic plot, it is clear that the constant variance assumption is violated and that linear regression is not the correct modelling technique in this instance. "
   ]
  },
  {
   "cell_type": "markdown",
   "metadata": {},
   "source": [
    "### Discussion:"
   ]
  },
  {
   "cell_type": "markdown",
   "metadata": {},
   "source": [
    "The objective of this analysis was to identify regional and temporal trends in happiness scores with the intention of potentially informing policy decisions. Regional means reveal that smaller and more developed regions are typically happier than others. Those more industrialized regions value economy as the highest influencer of happiness while all others value family the highest. Underdeveloped regions also have seen more growth in happiness between 2015 and 2019 than their developed counterparts. This makes sense as the rate of change in development slows with development per the Demographic Transition Model. The countries with the largest positive growth are all rapidly developing countries while the ones with the largest negative growth are facing civil or political unrest. The countries with the smallest growth are stagnating due to underdevelopment or overdevelopment. Finally, it was determined that regression models between happiness and the happiness factors is inconclusive. \n",
    "\n",
    "However, it must be noted that happiness is a subjective characteristic and difficult to assign objective measure to. While these happiness factors make for interesting valuations of the contributing causes of happiness, they must come with a caveat. How these factor scores were determined is unknown and so any analysis here must be further examined in context of the underlying contributions to each happiness factor. "
   ]
  },
  {
   "cell_type": "code",
   "execution_count": null,
   "metadata": {},
   "outputs": [],
   "source": []
  }
 ],
 "metadata": {
  "kernelspec": {
   "display_name": "Python 3",
   "language": "python",
   "name": "python3"
  },
  "language_info": {
   "codemirror_mode": {
    "name": "ipython",
    "version": 3
   },
   "file_extension": ".py",
   "mimetype": "text/x-python",
   "name": "python",
   "nbconvert_exporter": "python",
   "pygments_lexer": "ipython3",
   "version": "3.7.6"
  }
 },
 "nbformat": 4,
 "nbformat_minor": 4
}
