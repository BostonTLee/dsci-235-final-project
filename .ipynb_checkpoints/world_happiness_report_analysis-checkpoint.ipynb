{
 "cells": [
  {
   "cell_type": "markdown",
   "metadata": {},
   "source": [
    "**World Happiness Report Analysis**"
   ]
  },
  {
   "cell_type": "code",
   "execution_count": 132,
   "metadata": {
    "_cell_guid": "b1076dfc-b9ad-4769-8c92-a6c4dae69d19",
    "_uuid": "8f2839f25d086af736a60e9eeb907d3b93b6e0e5"
   },
   "outputs": [],
   "source": [
    "import numpy as np\n",
    "import pandas as pd"
   ]
  },
  {
   "cell_type": "markdown",
   "metadata": {},
   "source": [
    "Read the raw data into Python:"
   ]
  },
  {
   "cell_type": "code",
   "execution_count": 133,
   "metadata": {
    "_cell_guid": "79c7e3d0-c299-4dcb-8224-4455121ee9b0",
    "_uuid": "d629ff2d2480ee46fbb7e2d37f6b5fab8052498a"
   },
   "outputs": [],
   "source": [
    "data_2015 = pd.read_csv('/kaggle/input/world-happiness/2015.csv', header = 0, names=['country', 'region', 'rank', 'score', 'se', 'economy', 'family', 'health', 'freedom', 'trust', 'generosity', 'dystopian'])\n",
    "data_2016 = pd.read_csv('/kaggle/input/world-happiness/2016.csv', header = 0, names=['country', 'region', 'rank', 'score', 'lower', 'upper', 'economy', 'family', 'health', 'freedom', 'trust', 'generosity', 'dystopian'])\n",
    "data_2017 = pd.read_csv('/kaggle/input/world-happiness/2017.csv', header = 0, names=['country', 'rank', 'score', 'high', 'low', 'economy', 'family', 'health', 'freedom', 'generosity', 'trust', 'dystopian'])\n",
    "data_2018 = pd.read_csv('/kaggle/input/world-happiness/2018.csv', header = 0, names=['rank', 'country', 'score', 'economy', 'family', 'health', 'freedom', 'generosity', 'trust'])\n",
    "data_2019 = pd.read_csv('/kaggle/input/world-happiness/2019.csv', header = 0, names=['rank', 'country', 'score', 'economy', 'family', 'health', 'freedom', 'generosity', 'trust'])"
   ]
  },
  {
   "cell_type": "markdown",
   "metadata": {},
   "source": [
    "Data manipulation and standardization:"
   ]
  },
  {
   "cell_type": "code",
   "execution_count": 134,
   "metadata": {},
   "outputs": [],
   "source": [
    "data_2017 = data_2017.set_index('country').join(data_2015[['country', 'region']].set_index('country'), on = 'country', how = 'inner', lsuffix = '1', rsuffix = '').reset_index()\n",
    "data_2017 = data_2017[['country', 'region', 'rank', 'score', 'economy', 'family', 'health', 'freedom', 'trust', 'generosity']]"
   ]
  },
  {
   "cell_type": "code",
   "execution_count": 135,
   "metadata": {},
   "outputs": [],
   "source": [
    "data_2018 = data_2018.set_index('country').join(data_2015[['country', 'region']].set_index('country'), on = 'country', how = 'inner', lsuffix = '1', rsuffix = '').reset_index()\n",
    "data_2018 = data_2018[['country', 'region', 'rank', 'score', 'economy', 'family', 'health', 'freedom', 'trust', 'generosity']]"
   ]
  },
  {
   "cell_type": "code",
   "execution_count": 136,
   "metadata": {},
   "outputs": [],
   "source": [
    "data_2019 = data_2019.set_index('country').join(data_2015[['country', 'region']].set_index('country'), on = 'country', how = 'inner', lsuffix = '1', rsuffix = '').reset_index()\n",
    "data_2019 = data_2019[['country', 'region', 'rank', 'score', 'economy', 'family', 'health', 'freedom', 'trust', 'generosity']]"
   ]
  },
  {
   "cell_type": "code",
   "execution_count": 137,
   "metadata": {},
   "outputs": [],
   "source": [
    "data_2015 = data_2015[['country', 'region', 'rank', 'score', 'economy', 'family', 'health', 'freedom', 'trust', 'generosity']]"
   ]
  },
  {
   "cell_type": "code",
   "execution_count": 138,
   "metadata": {},
   "outputs": [],
   "source": [
    "data_2016 = data_2016[['country', 'region', 'rank', 'score', 'economy', 'family', 'health', 'freedom', 'trust', 'generosity']]"
   ]
  },
  {
   "cell_type": "markdown",
   "metadata": {},
   "source": [
    "Synethsize tables into hierarchically indexed dataframe:"
   ]
  },
  {
   "cell_type": "code",
   "execution_count": 158,
   "metadata": {},
   "outputs": [],
   "source": [
    "data = pd.concat([data_2015, data_2016, data_2017, data_2018, data_2019], keys = ['2015', '2016', '2017', '2018', '2019'])\n",
    "print(data.loc[:])\n",
    "data = data.set_index(['region', 'country'])\n",
    "print(data.loc[:])"
   ]
  }
 ],
 "metadata": {
  "kernelspec": {
   "display_name": "Python 3",
   "language": "python",
   "name": "python3"
  },
  "language_info": {
   "codemirror_mode": {
    "name": "ipython",
    "version": 3
   },
   "file_extension": ".py",
   "mimetype": "text/x-python",
   "name": "python",
   "nbconvert_exporter": "python",
   "pygments_lexer": "ipython3",
   "version": "3.7.6"
  }
 },
 "nbformat": 4,
 "nbformat_minor": 4
}
